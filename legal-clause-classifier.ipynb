{
 "cells": [
  {
   "cell_type": "markdown",
   "id": "c823dea2",
   "metadata": {},
   "source": [
    "# Import libraries"
   ]
  },
  {
   "cell_type": "code",
   "execution_count": 1,
   "id": "3fd5166b",
   "metadata": {},
   "outputs": [],
   "source": [
    "import re\n",
    "\n",
    "import pandas as pd\n",
    "import numpy as np \n",
    "import matplotlib.pyplot as plt\n",
    "%matplotlib inline\n",
    "import seaborn as sns\n",
    "\n",
    "from sklearn.model_selection import train_test_split\n",
    "from sklearn.preprocessing import LabelEncoder\n",
    "from sklearn.metrics import confusion_matrix\n",
    "from sklearn.utils import class_weight\n",
    "\n",
    "from keras.preprocessing.sequence import pad_sequences\n",
    "from keras.models import Sequential\n",
    "from keras.layers import Dense, LSTM\n",
    "\n",
    "from keras.callbacks import ModelCheckpoint\n",
    "from keras.models import load_model\n",
    "\n",
    "import spacy"
   ]
  },
  {
   "cell_type": "markdown",
   "id": "81955471",
   "metadata": {},
   "source": [
    "# Load dataset"
   ]
  },
  {
   "cell_type": "code",
   "execution_count": 2,
   "id": "e4dcb1ab",
   "metadata": {},
   "outputs": [],
   "source": [
    "data = pd.read_csv(\"dane treningowe_I etap.csv\")"
   ]
  },
  {
   "cell_type": "code",
   "execution_count": 3,
   "id": "5e0fc0c0",
   "metadata": {},
   "outputs": [
    {
     "data": {
      "text/html": [
       "<div>\n",
       "<style scoped>\n",
       "    .dataframe tbody tr th:only-of-type {\n",
       "        vertical-align: middle;\n",
       "    }\n",
       "\n",
       "    .dataframe tbody tr th {\n",
       "        vertical-align: top;\n",
       "    }\n",
       "\n",
       "    .dataframe thead th {\n",
       "        text-align: right;\n",
       "    }\n",
       "</style>\n",
       "<table border=\"1\" class=\"dataframe\">\n",
       "  <thead>\n",
       "    <tr style=\"text-align: right;\">\n",
       "      <th></th>\n",
       "      <th>text</th>\n",
       "      <th>class</th>\n",
       "    </tr>\n",
       "  </thead>\n",
       "  <tbody>\n",
       "    <tr>\n",
       "      <th>0</th>\n",
       "      <td>Wszelka korespondencja wysyłana przez Pożyczko...</td>\n",
       "      <td>KLAUZULA_ABUZYWNA</td>\n",
       "    </tr>\n",
       "    <tr>\n",
       "      <th>1</th>\n",
       "      <td>W przypadku opóźnień Pożyczkobiorcy w spłacie ...</td>\n",
       "      <td>KLAUZULA_ABUZYWNA</td>\n",
       "    </tr>\n",
       "    <tr>\n",
       "      <th>2</th>\n",
       "      <td>W przypadku opóźnień Pożyczkobiorcy w spłacie ...</td>\n",
       "      <td>KLAUZULA_ABUZYWNA</td>\n",
       "    </tr>\n",
       "    <tr>\n",
       "      <th>3</th>\n",
       "      <td>Pożyczkobiorca zleca firmie Narodowy Fundusz P...</td>\n",
       "      <td>KLAUZULA_ABUZYWNA</td>\n",
       "    </tr>\n",
       "    <tr>\n",
       "      <th>4</th>\n",
       "      <td>Od niespłaconej w terminie raty Pożyczkobiorca...</td>\n",
       "      <td>KLAUZULA_ABUZYWNA</td>\n",
       "    </tr>\n",
       "  </tbody>\n",
       "</table>\n",
       "</div>"
      ],
      "text/plain": [
       "                                                text              class\n",
       "0  Wszelka korespondencja wysyłana przez Pożyczko...  KLAUZULA_ABUZYWNA\n",
       "1  W przypadku opóźnień Pożyczkobiorcy w spłacie ...  KLAUZULA_ABUZYWNA\n",
       "2  W przypadku opóźnień Pożyczkobiorcy w spłacie ...  KLAUZULA_ABUZYWNA\n",
       "3  Pożyczkobiorca zleca firmie Narodowy Fundusz P...  KLAUZULA_ABUZYWNA\n",
       "4  Od niespłaconej w terminie raty Pożyczkobiorca...  KLAUZULA_ABUZYWNA"
      ]
     },
     "execution_count": 3,
     "metadata": {},
     "output_type": "execute_result"
    }
   ],
   "source": [
    "data.head()"
   ]
  },
  {
   "cell_type": "markdown",
   "id": "968f2ebf",
   "metadata": {},
   "source": [
    "# Explore dataset"
   ]
  },
  {
   "cell_type": "code",
   "execution_count": 4,
   "id": "bebfccd1",
   "metadata": {},
   "outputs": [
    {
     "data": {
      "text/plain": [
       "4284"
      ]
     },
     "execution_count": 4,
     "metadata": {},
     "output_type": "execute_result"
    }
   ],
   "source": [
    "data.shape[0]"
   ]
  },
  {
   "cell_type": "code",
   "execution_count": 5,
   "id": "7088f2ac",
   "metadata": {},
   "outputs": [
    {
     "data": {
      "text/plain": [
       "array(['KLAUZULA_ABUZYWNA', 'BEZPIECZNE_POSTANOWIENIE_UMOWNE'],\n",
       "      dtype=object)"
      ]
     },
     "execution_count": 5,
     "metadata": {},
     "output_type": "execute_result"
    }
   ],
   "source": [
    "data['class'].unique()"
   ]
  },
  {
   "cell_type": "code",
   "execution_count": 6,
   "id": "38e6cdde",
   "metadata": {},
   "outputs": [
    {
     "data": {
      "text/plain": [
       "1946"
      ]
     },
     "execution_count": 6,
     "metadata": {},
     "output_type": "execute_result"
    }
   ],
   "source": [
    "len(data[data['class']==\"KLAUZULA_ABUZYWNA\"])"
   ]
  },
  {
   "cell_type": "code",
   "execution_count": 7,
   "id": "41dea04c",
   "metadata": {},
   "outputs": [
    {
     "data": {
      "text/plain": [
       "2338"
      ]
     },
     "execution_count": 7,
     "metadata": {},
     "output_type": "execute_result"
    }
   ],
   "source": [
    "len(data[data['class']==\"BEZPIECZNE_POSTANOWIENIE_UMOWNE\"])"
   ]
  },
  {
   "cell_type": "code",
   "execution_count": 8,
   "id": "51154c39",
   "metadata": {},
   "outputs": [
    {
     "name": "stdout",
     "output_type": "stream",
     "text": [
      "Wszelka korespondencja wysyłana przez Pożyczkodawcę na adres zamieszkania podany w umowie oraz na e-mail zostaje uznana za skutecznie doręczoną. Zmiana adresu e-mail oraz adresu zamieszkania musi być dostarczona do Pożyczkodawcy osobiście\n",
      "KLAUZULA_ABUZYWNA\n"
     ]
    }
   ],
   "source": [
    "print(data[data['class']==\"KLAUZULA_ABUZYWNA\"].iloc[0][\"text\"])\n",
    "print(data[data['class']==\"KLAUZULA_ABUZYWNA\"].iloc[0][\"class\"])"
   ]
  },
  {
   "cell_type": "code",
   "execution_count": 9,
   "id": "cb95e1b4",
   "metadata": {},
   "outputs": [
    {
     "name": "stdout",
     "output_type": "stream",
     "text": [
      "Ewentualne spory rozstrzygnę będą przez Sąd właściwy miejscowo i rzeczowo ustalony zgodnie z przepisami kodeksu postępowania cywilnego.\n",
      "BEZPIECZNE_POSTANOWIENIE_UMOWNE\n"
     ]
    }
   ],
   "source": [
    "print(data[data['class']==\"BEZPIECZNE_POSTANOWIENIE_UMOWNE\"].iloc[0][\"text\"])\n",
    "print(data[data['class']==\"BEZPIECZNE_POSTANOWIENIE_UMOWNE\"].iloc[0][\"class\"])"
   ]
  },
  {
   "cell_type": "code",
   "execution_count": 10,
   "id": "c482d18c",
   "metadata": {},
   "outputs": [
    {
     "data": {
      "text/plain": [
       "1325"
      ]
     },
     "execution_count": 10,
     "metadata": {},
     "output_type": "execute_result"
    }
   ],
   "source": [
    "max(data[\"text\"].str.len())"
   ]
  },
  {
   "cell_type": "markdown",
   "id": "0155ee4f",
   "metadata": {},
   "source": [
    "# Preprocess data"
   ]
  },
  {
   "cell_type": "code",
   "execution_count": 11,
   "id": "b612eee2",
   "metadata": {},
   "outputs": [],
   "source": [
    "X = data['text']\n",
    "y = data['class']"
   ]
  },
  {
   "cell_type": "code",
   "execution_count": 12,
   "id": "1b36ac1d",
   "metadata": {},
   "outputs": [
    {
     "name": "stdout",
     "output_type": "stream",
     "text": [
      "['BEZPIECZNE_POSTANOWIENIE_UMOWNE' 'KLAUZULA_ABUZYWNA']\n",
      "[0 1]\n"
     ]
    }
   ],
   "source": [
    "le=LabelEncoder()\n",
    "y = le.fit_transform(y)\n",
    "print(le.classes_)\n",
    "print(le.transform(le.classes_))"
   ]
  },
  {
   "cell_type": "code",
   "execution_count": 13,
   "id": "0b2fb1a5",
   "metadata": {},
   "outputs": [
    {
     "name": "stdout",
     "output_type": "stream",
     "text": [
      "0 Wszelka korespondencja wysyłana przez Pożyczkodawcę na adres zamieszkania podany w umowie oraz na e-mail zostaje uznana za skutecznie doręczoną. Zmiana adresu e-mail oraz adresu zamieszkania musi być dostarczona do Pożyczkodawcy osobiście\n",
      "1 W przypadku opóźnień Pożyczkobiorcy w spłacie pożyczki Pożyczkodawca ma prawo raz dziennie telefonicznie upomnieć Pożyczkobiorcę do spłaty pożyczki. Za każdy telefon do Pożyczkobiorcy Pożyczkodawca nalicza opłatę w wysokości 100\n",
      "2 W przypadku opóźnień Pożyczkobiorcy w spłacie pożyczki Pożyczkodawca ma prawo wysłać jedno wezwanie dziennie do spłaty pożyczki za pomocą poczty tradycyjnej oraz mailowej na adresy podane w umowie. Za każde wezwanie Pożyczkodawca\n",
      "3 Pożyczkobiorca zleca firmie Narodowy Fundusz Pożyczkowy Sp. z o.o. poręczenie swojej pożyczki i zobowiązuje się zapłacić na rzecz Pożyczkodawcy kwotę 1000 zł (słownie: jeden tysiąc złotych) miesięcznie za każdy miesiąc trwania\n",
      "4 Od niespłaconej w terminie raty Pożyczkobiorca zapłaci Pożyczkodawcy opłaty karne w wysokości 200 złotych w stosunku dziennym\n",
      "5 Pożyczkobiorca ma prawo wybrać inny sposób przechowania weksla, jednakże z zachowaniem pełnego bezpieczeństwa weksla oraz dostępu przez Pożyczkodawcę do weksla w dowolnym momencie. Pożyczkodawca wymaga wówczas wykupienia przez\n",
      "6 W przypadku braku spłaty pożyczki w terminie Pożyczkodawca ma prawo wykorzystać weksel wysyłając go do Sądu z żądaniem zapłaty pełnej sumy z weksla; a także ma prawo sprzedać lub przekazać weksel i prawa z niego wynikające w\n",
      "7 Zabezpieczeniem spłaty pożyczki będzie podpisanie przez Pożyczkobiorcę weksla na dziesięciokrotność kwoty pożyczki. W przypadku terminowej spłaty pożyczki weksel będzie zwrócony Pożyczkobiorcy lub zniszczony przez Pożyczkodawcę\n",
      "8 Termin zwrotu pożyczki strony ustalają na 01 września 2012 r. , przy czym okres ten może zostać przedłużony maksymalnie do 1 września 2014 r.\n",
      "9 Okres trwania pożyczki wynosi 1 miesiąc, przy czym może zostać przedłużana co miesiąc do 24 miesięcy\n"
     ]
    }
   ],
   "source": [
    "for i in range(10):\n",
    "    print(i, X[i])"
   ]
  },
  {
   "cell_type": "code",
   "execution_count": 14,
   "id": "33da8c7c",
   "metadata": {},
   "outputs": [],
   "source": [
    "nlp = spacy.load(\"pl_core_news_md\")"
   ]
  },
  {
   "cell_type": "code",
   "execution_count": 15,
   "id": "df200b14",
   "metadata": {},
   "outputs": [],
   "source": [
    "def preprocess_text(data, nlp):\n",
    "    #make lowercase\n",
    "    data = data.map(lambda x: x.strip().lower())\n",
    "    \n",
    "    # remove numbers\n",
    "    alphanum_re = re.compile(r\"\"\"\\w*\\d\\w*\"\"\")\n",
    "    alphanum_lambda = lambda x: alphanum_re.sub('',x)\n",
    "    data = data.map(alphanum_lambda)\n",
    "    \n",
    "    #removing symbols\n",
    "    symb_re = re.compile('[^\\w\\d\\s]')\n",
    "    symb_lambda = lambda x: symb_re.sub(' ', x)\n",
    "    data = data.map(symb_lambda)\n",
    "    \n",
    "    #removing underscores\n",
    "    under_re = re.compile('[_]')\n",
    "    under_lambda = lambda x: under_re.sub(' ', x)\n",
    "    data = data.map(under_lambda)\n",
    "    \n",
    "    # removing whitespace \n",
    "    data = data.map(lambda x: \" \".join(x.split()))\n",
    "    \n",
    "    # lemmatization\n",
    "    def lemmatize(text):\n",
    "        doc = nlp(text)\n",
    "        return ' '.join([token.lemma_ for token in doc])\n",
    "    data = data.map(lemmatize)\n",
    "    \n",
    "    return data"
   ]
  },
  {
   "cell_type": "code",
   "execution_count": 16,
   "id": "16b328ed",
   "metadata": {},
   "outputs": [],
   "source": [
    "X_prep = preprocess_text(X,nlp)"
   ]
  },
  {
   "cell_type": "code",
   "execution_count": 17,
   "id": "b7a9f7b2",
   "metadata": {},
   "outputs": [
    {
     "name": "stdout",
     "output_type": "stream",
     "text": [
      "0 wszelki korespondencja wysyłać przez pożyczkodawca na adres zamieszkanie podać w umowa oraz na e mail zostawać uznać za skutecznie doręczoną zmiana adres e mail oraz adres zamieszkanie musieć być dostarczyć do pożyczkodawca osobiście\n",
      "1 w przypadek opóźnień pożyczkobiorca w spłat pożyczka pożyczkodawiec mieć prawo raz dziennie telefonicznie upomnieć pożyczkobiorca do spłata pożyczka za każdy telefon do pożyczkobiorca pożyczkodawca naliczać opłata w wysokość\n",
      "2 w przypadek opóźnień pożyczkobiorca w spłat pożyczka pożyczkodawiec mieć prawo wysłać jeden wezwanie dziennie do spłata pożyczka za pomoc poczta tradycyjny oraz mailowy na adres podać w umowa za każdy wezwanie pożyczkodawca\n",
      "3 pożyczkobiorca zlecać firma narodowy fundusz pożyczkowy sp z o o poręczenie swój pożyczka i zobowiązywać się zapłacić na rzecz pożyczkodawca kwota złoty słownie jeden tysiąc złoty miesięcznie za każdy miesiąc trwać\n",
      "4 od niespłacony w termin rata pożyczkobiorca zapłacić pożyczkodawca opłata karny w wysokość złoty w stosunek dzienny\n",
      "5 pożyczkobiorca mieć prawo wybrać inny sposób przechować wekslaa jednakże z zachować pełny bezpieczeństwo weksla oraz dostęp przez pożyczkodawca do wekslaa w dowolny moment pożyczkodawca wymagać wówczas wykupienie przez\n",
      "6 w przypadek brak spłata pożyczka w termin pożyczkodawiec mieć prawo wykorzystać weksel wysyłać on do sąd z żądanie zapłata pełny suma z wekslaa a także mieć prawo sprzedać lub przekazać weksel i prawo z on wynikać w\n",
      "7 zabezpieczeć spłata pożyczka być podpisać przez pożyczkobiorca weksel na dziesięciokrotność kwota pożyczka w przypadek terminowy spłata pożyczka weksel być zwrócić pożyczkobiorca lub zniszczić przez pożyczkodawca\n",
      "8 termin zwrot pożyczka strona ustalać na wrzesień rok przy co okres ten móc zostać przedłużyć maksymalnie do wrzesień rok\n",
      "9 okres trwać pożyczka wynosić miesiąc przy co móc zostać przedłużać co miesiąc do miesiąc\n"
     ]
    }
   ],
   "source": [
    "for i in range(10):\n",
    "    print(i, X_prep[i])"
   ]
  },
  {
   "cell_type": "code",
   "execution_count": 18,
   "id": "f0328dad",
   "metadata": {},
   "outputs": [],
   "source": [
    "#vectorization\n",
    "def vectorize(text):\n",
    "    doc = nlp(text)\n",
    "    return [token.vector for token in doc]\n",
    "X_vec = X_prep.map(vectorize)"
   ]
  },
  {
   "cell_type": "code",
   "execution_count": 19,
   "id": "949892b6",
   "metadata": {},
   "outputs": [
    {
     "name": "stdout",
     "output_type": "stream",
     "text": [
      "300\n"
     ]
    }
   ],
   "source": [
    "emb_dim = len(X_vec[0][0])\n",
    "print(emb_dim)"
   ]
  },
  {
   "cell_type": "code",
   "execution_count": 20,
   "id": "91bd7ed0",
   "metadata": {},
   "outputs": [
    {
     "name": "stdout",
     "output_type": "stream",
     "text": [
      "159\n"
     ]
    }
   ],
   "source": [
    "max_length = max(X_vec.map(lambda x: len(x)))\n",
    "print(max_length)"
   ]
  },
  {
   "cell_type": "code",
   "execution_count": 21,
   "id": "67e8e38c",
   "metadata": {},
   "outputs": [],
   "source": [
    "#padding\n",
    "def pad(sequence):\n",
    "    number_of_vec_to_add = max_length - len(sequence)\n",
    "    pad_sequence = np.array((number_of_vec_to_add * [np.zeros(emb_dim)]) + sequence)\n",
    "    return pad_sequence\n",
    "X_pad = X_vec.map(pad)"
   ]
  },
  {
   "cell_type": "code",
   "execution_count": 22,
   "id": "8b01805f",
   "metadata": {},
   "outputs": [],
   "source": [
    "X_arr = np.array(X_pad.values.tolist())"
   ]
  },
  {
   "cell_type": "code",
   "execution_count": 23,
   "id": "52654480",
   "metadata": {},
   "outputs": [
    {
     "data": {
      "text/plain": [
       "(4284, 159, 300)"
      ]
     },
     "execution_count": 23,
     "metadata": {},
     "output_type": "execute_result"
    }
   ],
   "source": [
    "X_arr.shape"
   ]
  },
  {
   "cell_type": "markdown",
   "id": "534cac97",
   "metadata": {},
   "source": [
    "# Split data"
   ]
  },
  {
   "cell_type": "code",
   "execution_count": 24,
   "id": "4fb8ac5e",
   "metadata": {},
   "outputs": [],
   "source": [
    "X_train, X_val, y_train, y_val = train_test_split(X_arr, y, test_size=0.3, random_state=42)"
   ]
  },
  {
   "cell_type": "markdown",
   "id": "1c2185a6",
   "metadata": {},
   "source": [
    "# Calculate class weights"
   ]
  },
  {
   "cell_type": "code",
   "execution_count": 25,
   "id": "0e41efb2",
   "metadata": {},
   "outputs": [
    {
     "name": "stdout",
     "output_type": "stream",
     "text": [
      "{0: 0.9024683925346177, 1: 1.1211667913238594}\n"
     ]
    }
   ],
   "source": [
    "cw = class_weight.compute_class_weight('balanced', classes = [0,1], y = y_train)\n",
    "cw_dict = {0:cw[0], 1:cw[1]}\n",
    "print(cw_dict)"
   ]
  },
  {
   "cell_type": "markdown",
   "id": "07c1429a",
   "metadata": {},
   "source": [
    "# Create Model "
   ]
  },
  {
   "cell_type": "code",
   "execution_count": 26,
   "id": "22f08369",
   "metadata": {},
   "outputs": [
    {
     "name": "stdout",
     "output_type": "stream",
     "text": [
      "Model: \"sequential\"\n",
      "_________________________________________________________________\n",
      "Layer (type)                 Output Shape              Param #   \n",
      "=================================================================\n",
      "lstm (LSTM)                  (None, 300)               721200    \n",
      "_________________________________________________________________\n",
      "dense (Dense)                (None, 1)                 301       \n",
      "=================================================================\n",
      "Total params: 721,501\n",
      "Trainable params: 721,501\n",
      "Non-trainable params: 0\n",
      "_________________________________________________________________\n",
      "None\n"
     ]
    }
   ],
   "source": [
    "model = Sequential()\n",
    "model.add(LSTM(300,dropout=0.2, recurrent_dropout=0.2, input_shape=(X_arr.shape[1], X_arr.shape[2])))\n",
    "model.add(Dense(1, activation='sigmoid'))\n",
    "model.compile(loss='binary_crossentropy', optimizer='adam', metrics=['accuracy'])\n",
    "print(model.summary())"
   ]
  },
  {
   "cell_type": "markdown",
   "id": "723bf409",
   "metadata": {},
   "source": [
    "# Train Model"
   ]
  },
  {
   "cell_type": "code",
   "execution_count": 27,
   "id": "d9e7bf04",
   "metadata": {},
   "outputs": [],
   "source": [
    "model_checkpoint= ModelCheckpoint('best_model', save_best_only=True, monitor='val_loss', mode='min')"
   ]
  },
  {
   "cell_type": "code",
   "execution_count": 28,
   "id": "fe265c55",
   "metadata": {
    "scrolled": false
   },
   "outputs": [
    {
     "name": "stdout",
     "output_type": "stream",
     "text": [
      "Epoch 1/10\n",
      "47/47 [==============================] - 45s 920ms/step - loss: 0.5952 - accuracy: 0.6684 - val_loss: 0.4733 - val_accuracy: 0.7737\n",
      "INFO:tensorflow:Assets written to: best_model\\assets\n",
      "Epoch 2/10\n",
      "47/47 [==============================] - 36s 758ms/step - loss: 0.4157 - accuracy: 0.8062 - val_loss: 0.4196 - val_accuracy: 0.8009\n",
      "INFO:tensorflow:Assets written to: best_model\\assets\n",
      "Epoch 3/10\n",
      "47/47 [==============================] - 34s 734ms/step - loss: 0.3226 - accuracy: 0.8549 - val_loss: 0.3977 - val_accuracy: 0.8266\n",
      "INFO:tensorflow:Assets written to: best_model\\assets\n",
      "Epoch 4/10\n",
      "47/47 [==============================] - 33s 710ms/step - loss: 0.2360 - accuracy: 0.9079 - val_loss: 0.4025 - val_accuracy: 0.8336\n",
      "Epoch 5/10\n",
      "47/47 [==============================] - 33s 706ms/step - loss: 0.1796 - accuracy: 0.9286 - val_loss: 0.4426 - val_accuracy: 0.8219\n",
      "Epoch 6/10\n",
      "47/47 [==============================] - 34s 726ms/step - loss: 0.1319 - accuracy: 0.9553 - val_loss: 0.5603 - val_accuracy: 0.8056\n",
      "Epoch 7/10\n",
      "47/47 [==============================] - 35s 742ms/step - loss: 0.1188 - accuracy: 0.9683 - val_loss: 0.4824 - val_accuracy: 0.8266\n",
      "Epoch 8/10\n",
      "47/47 [==============================] - 33s 713ms/step - loss: 0.0730 - accuracy: 0.9773 - val_loss: 0.4893 - val_accuracy: 0.8344\n",
      "Epoch 9/10\n",
      "47/47 [==============================] - 36s 769ms/step - loss: 0.0636 - accuracy: 0.9837 - val_loss: 0.4917 - val_accuracy: 0.8289\n",
      "Epoch 10/10\n",
      "47/47 [==============================] - 34s 722ms/step - loss: 0.0524 - accuracy: 0.9847 - val_loss: 0.5228 - val_accuracy: 0.8336\n"
     ]
    }
   ],
   "source": [
    "history = model.fit(X_train, y_train, validation_data=(X_val, y_val), epochs=10, class_weight=cw_dict, batch_size=64, callbacks=model_checkpoint)"
   ]
  },
  {
   "cell_type": "code",
   "execution_count": 29,
   "id": "315b7de2",
   "metadata": {},
   "outputs": [
    {
     "data": {
      "text/plain": [
       "<matplotlib.legend.Legend at 0x216c6a97640>"
      ]
     },
     "execution_count": 29,
     "metadata": {},
     "output_type": "execute_result"
    },
    {
     "data": {
      "image/png": "[encoded data removed]",
      "text/plain": [
       "<Figure size 432x288 with 2 Axes>"
      ]
     },
     "metadata": {
      "needs_background": "light"
     },
     "output_type": "display_data"
    }
   ],
   "source": [
    "fig, ax = plt.subplots(1, 2)\n",
    "\n",
    "ax[0].plot(history.history['loss'], label = \"train\")\n",
    "ax[0].plot(history.history['val_loss'], label = \"validation\")\n",
    "\n",
    "ax[1].plot(history.history['accuracy'], label = \"train\")\n",
    "ax[1].plot(history.history['val_accuracy'], label = \"validation\")\n",
    "\n",
    "ax[0].set_xlabel(\"epoch\")\n",
    "ax[1].set_xlabel(\"epoch\")\n",
    "\n",
    "ax[0].set_title(\"loss\")\n",
    "ax[1].set_title(\"accuracy\")\n",
    "\n",
    "ax[0].legend() \n",
    "ax[1].legend() "
   ]
  },
  {
   "cell_type": "markdown",
   "id": "2521c936",
   "metadata": {},
   "source": [
    "# Evaluate Model"
   ]
  },
  {
   "cell_type": "code",
   "execution_count": 30,
   "id": "2b0ee7b8",
   "metadata": {},
   "outputs": [],
   "source": [
    "model = load_model('best_model')"
   ]
  },
  {
   "cell_type": "code",
   "execution_count": 31,
   "id": "7c4e5b6e",
   "metadata": {},
   "outputs": [],
   "source": [
    "data_test = pd.read_csv(\"dane testowe z klasami_I etap.csv\")"
   ]
  },
  {
   "cell_type": "code",
   "execution_count": 32,
   "id": "23e560c0",
   "metadata": {},
   "outputs": [],
   "source": [
    "X_test = np.array(preprocess_text(data_test[\"text\"],nlp).map(vectorize).map(pad).values.tolist())"
   ]
  },
  {
   "cell_type": "code",
   "execution_count": 33,
   "id": "bc28d70c",
   "metadata": {},
   "outputs": [],
   "source": [
    "y_test = le.transform(data_test[\"class\"])"
   ]
  },
  {
   "cell_type": "code",
   "execution_count": 34,
   "id": "c4cb58d4",
   "metadata": {},
   "outputs": [],
   "source": [
    "y_pred = (model.predict(X_test) > 0.5).astype(\"int32\")"
   ]
  },
  {
   "cell_type": "code",
   "execution_count": 35,
   "id": "8f934925",
   "metadata": {},
   "outputs": [],
   "source": [
    "def create_and_draw_confusion_matrix(y_test, y_pred): #modified code from Intel Natural Language Processing course\n",
    "    cm = confusion_matrix(y_test, y_pred, labels=[1,0])\n",
    "    sns.heatmap(cm, xticklabels=['predicted_positive', 'predicted_negative'], yticklabels=['actual_positive', 'actual_negative'], \n",
    "    annot=True, fmt='d', annot_kws={'fontsize':20}, cmap=\"YlGnBu\");   \n",
    "    return cm\n",
    "def print_error_metrics(cm): #modified code from Intel Natural Language Processing course\n",
    "    true_pos, false_neg = cm[0]\n",
    "    false_pos, true_neg = cm[1]\n",
    "\n",
    "    accuracy = round((true_pos + true_neg) / (true_pos + true_neg + false_pos + false_neg),3)\n",
    "    precision = round((true_pos) / (true_pos + false_pos),3)\n",
    "    recall = round((true_pos) / (true_pos + false_neg),3)\n",
    "    specificity = round((true_neg) / (true_neg + false_pos),3)\n",
    "    f1 = round(2 * (precision * recall) / (precision + recall),3)\n",
    "    balanced_accuracy = round((recall+specificity)/2,3)\n",
    "    \n",
    "    print('Accuracy: {}'.format(accuracy))\n",
    "    print('Precision: {}'.format(precision))\n",
    "    print('Sensitivity (Recall): {}'.format(recall))\n",
    "    print('Specificity: {}'.format(specificity))\n",
    "    print('Balanced accuracy: {}'.format(balanced_accuracy))\n",
    "    print('F1 Score: {}'.format(f1))"
   ]
  },
  {
   "cell_type": "code",
   "execution_count": 36,
   "id": "5eebfe8f",
   "metadata": {},
   "outputs": [
    {
     "name": "stdout",
     "output_type": "stream",
     "text": [
      "Accuracy: 0.776\n",
      "Precision: 0.623\n",
      "Sensitivity (Recall): 0.788\n",
      "Specificity: 0.771\n",
      "Balanced accuracy: 0.78\n",
      "F1 Score: 0.696\n"
     ]
    },
    {
     "data": {
      "image/png": "[encoded data removed]",
      "text/plain": [
       "<Figure size 432x288 with 2 Axes>"
      ]
     },
     "metadata": {
      "needs_background": "light"
     },
     "output_type": "display_data"
    }
   ],
   "source": [
    "cm = create_and_draw_confusion_matrix(y_test, y_pred)\n",
    "print_error_metrics(cm)"
   ]
  }
 ],
 "metadata": {
  "kernelspec": {
   "display_name": "Python (base)",
   "language": "python",
   "name": "base"
  },
  "language_info": {
   "codemirror_mode": {
    "name": "ipython",
    "version": 3
   },
   "file_extension": ".py",
   "mimetype": "text/x-python",
   "name": "python",
   "nbconvert_exporter": "python",
   "pygments_lexer": "ipython3",
   "version": "3.9.12"
  }
 },
 "nbformat": 4,
 "nbformat_minor": 5
}
